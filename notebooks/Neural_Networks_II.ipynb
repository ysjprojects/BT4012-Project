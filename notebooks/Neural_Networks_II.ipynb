{
 "cells": [
  {
   "cell_type": "code",
   "execution_count": 1,
   "id": "bbff2ebf",
   "metadata": {},
   "outputs": [],
   "source": [
    "import copy\n",
    "import matplotlib.pyplot as plt\n",
    "import seaborn as sns\n",
    "import numpy as np\n",
    "import pandas as pd\n",
    "import torch\n",
    "import torch.nn as nn\n",
    "import torch.optim as optim\n",
    "import tqdm\n",
    "from sklearn.metrics import roc_curve\n",
    "from sklearn.model_selection import StratifiedKFold, train_test_split\n",
    "from sklearn.preprocessing import LabelEncoder\n",
    "from utils import confusion_matrix as cm "
   ]
  },
  {
   "cell_type": "code",
   "execution_count": 2,
   "id": "4c8cdacf",
   "metadata": {},
   "outputs": [],
   "source": [
    "# Read data\n",
    "train_data = pd.read_csv(\"../data/6_train_dataset_augmented.csv\")\n",
    "X_train = train_data.drop('is_fraud', axis=1)\n",
    "y_train = train_data['is_fraud']\n",
    "\n",
    "test_data = pd.read_csv(\"../data/4_test_dataset.csv\")\n",
    "X_test = test_data.drop('is_fraud', axis=1)\n",
    "y_test = test_data['is_fraud']"
   ]
  },
  {
   "cell_type": "code",
   "execution_count": 3,
   "id": "c6b2b26a",
   "metadata": {},
   "outputs": [
    {
     "data": {
      "text/plain": [
       "21"
      ]
     },
     "execution_count": 3,
     "metadata": {},
     "output_type": "execute_result"
    }
   ],
   "source": [
    "N_FEATURES = len(X_train.columns)\n",
    "N_FEATURES"
   ]
  },
  {
   "cell_type": "code",
   "execution_count": 4,
   "id": "b88dd626",
   "metadata": {},
   "outputs": [],
   "source": [
    "# Binary encoding of labels\n",
    "encoder = LabelEncoder()\n",
    "y_train = encoder.fit_transform(y_train)\n",
    "\n",
    "encoder = LabelEncoder()\n",
    "y_test = encoder.fit_transform(y_test)"
   ]
  },
  {
   "cell_type": "code",
   "execution_count": 5,
   "id": "d37223a4",
   "metadata": {},
   "outputs": [],
   "source": [
    "# Convert to 2D PyTorch tensors\n",
    "X_train = torch.tensor(X_train.values, dtype=torch.float32)\n",
    "y_train = torch.tensor(y_train, dtype=torch.float32).reshape(-1, 1)\n",
    "\n",
    "X_test = torch.tensor(X_test.values, dtype=torch.float32)\n",
    "y_test = torch.tensor(y_test, dtype=torch.float32).reshape(-1, 1)"
   ]
  },
  {
   "cell_type": "code",
   "execution_count": 6,
   "id": "9a95362f",
   "metadata": {},
   "outputs": [],
   "source": [
    "class Wide(nn.Module):\n",
    "    def __init__(self):\n",
    "        super().__init__()\n",
    "        self.hidden = nn.Linear(N_FEATURES, 360)\n",
    "        self.relu = nn.ReLU()\n",
    "        self.output = nn.Linear(360, 1)\n",
    "        self.sigmoid = nn.Sigmoid()\n",
    "\n",
    "    def forward(self, x):\n",
    "        x = self.relu(self.hidden(x))\n",
    "        x = self.sigmoid(self.output(x))\n",
    "        return x\n",
    "\n",
    "class Deep(nn.Module):\n",
    "    def __init__(self):\n",
    "        super().__init__()\n",
    "        self.layer1 = nn.Linear(N_FEATURES, 60)\n",
    "        self.act1 = nn.ReLU()\n",
    "        self.layer2 = nn.Linear(60, 60)\n",
    "        self.act2 = nn.ReLU()\n",
    "        self.layer3 = nn.Linear(60, 60)\n",
    "        self.act3 = nn.ReLU()\n",
    "        self.output = nn.Linear(60, 1)\n",
    "        self.sigmoid = nn.Sigmoid()\n",
    "\n",
    "    def forward(self, x):\n",
    "        x = self.act1(self.layer1(x))\n",
    "        x = self.act2(self.layer2(x))\n",
    "        x = self.act3(self.layer3(x))\n",
    "        x = self.sigmoid(self.output(x))\n",
    "        return x"
   ]
  },
  {
   "cell_type": "code",
   "execution_count": 7,
   "id": "4d11c44c",
   "metadata": {},
   "outputs": [
    {
     "name": "stdout",
     "output_type": "stream",
     "text": [
      "8281\n",
      "8701\n"
     ]
    }
   ],
   "source": [
    "\n",
    "# Compare model sizes\n",
    "model1 = Wide()\n",
    "model2 = Deep()\n",
    "print(sum([x.reshape(-1).shape[0] for x in model1.parameters()]))\n",
    "print(sum([x.reshape(-1).shape[0] for x in model2.parameters()]))"
   ]
  },
  {
   "cell_type": "code",
   "execution_count": 8,
   "id": "ff5ed599",
   "metadata": {},
   "outputs": [],
   "source": [
    "\n",
    "# Helper function to train one model\n",
    "def model_train(model, X_train, y_train, X_val, y_val):\n",
    "    # loss function and optimizer\n",
    "    loss_fn = nn.BCELoss()  # binary cross entropy\n",
    "    optimizer = optim.Adam(model.parameters(), lr=0.0001)\n",
    "\n",
    "    n_epochs = 300   # number of epochs to run\n",
    "    batch_size = 32  # size of each batch\n",
    "    batch_start = torch.arange(0, len(X_train), batch_size)\n",
    "\n",
    "    # Hold the best model\n",
    "    best_recall = - np.inf   # init to negative infinity\n",
    "    best_weights = None\n",
    "\n",
    "    for epoch in range(n_epochs):\n",
    "        model.train()\n",
    "        with tqdm.tqdm(batch_start, unit=\"batch\", mininterval=0, disable=True) as bar:\n",
    "            bar.set_description(f\"Epoch {epoch}\")\n",
    "            for start in bar:\n",
    "                # take a batch\n",
    "                X_batch = X_train[start:start+batch_size]\n",
    "                y_batch = y_train[start:start+batch_size]\n",
    "                # forward pass\n",
    "                y_pred = model(X_batch)\n",
    "                loss = loss_fn(y_pred, y_batch)\n",
    "                # backward pass\n",
    "                optimizer.zero_grad()\n",
    "                loss.backward()\n",
    "                # update weights\n",
    "                optimizer.step()\n",
    "                # print progress\n",
    "                _,_,(_,recall,_,_) = cm.get_confusion_matrix(y_batch.detach().numpy(), y_pred.round().detach().numpy())\n",
    "                acc = (y_pred.round() == y_batch).float().mean()\n",
    "                bar.set_postfix(\n",
    "                    loss=float(loss),\n",
    "                    acc=float(acc),\n",
    "                    recall=float(recall)\n",
    "                )\n",
    "        # evaluate recall at end of each epoch\n",
    "        model.eval()\n",
    "        y_pred = model(X_val)\n",
    "        acc = (y_pred.round() == y_val).float().mean()\n",
    "        acc = float(acc)\n",
    "        _,_,(_,recall,_,_) = cm.get_confusion_matrix(y_val.detach().numpy(), y_pred.round().detach().numpy())\n",
    "        recall = float(recall)\n",
    "\n",
    "        if recall > best_recall:\n",
    "            best_recall = recall\n",
    "            best_weights = copy.deepcopy(model.state_dict())\n",
    "    # restore model and return best recall\n",
    "    model.load_state_dict(best_weights)\n",
    "    return best_recall"
   ]
  },
  {
   "cell_type": "code",
   "execution_count": 9,
   "id": "50e80889",
   "metadata": {},
   "outputs": [
    {
     "name": "stdout",
     "output_type": "stream",
     "text": [
      "Recall (wide): 0.99\n",
      "Recall (wide): 0.99\n",
      "Recall (wide): 0.99\n",
      "Recall (wide): 0.99\n",
      "Recall (wide): 1.00\n",
      "Recall (deep): 0.62\n",
      "Recall (deep): 0.61\n",
      "Recall (deep): 0.98\n",
      "Recall (deep): 0.61\n",
      "Recall (deep): 0.99\n",
      "Wide: 99.18% (+/- 0.27%)\n",
      "Deep: 76.28% (+/- 18.33%)\n",
      "Retrain a wide model\n",
      "Final model recall: 100.00%\n"
     ]
    }
   ],
   "source": [
    "# define 5-fold cross validation test harness\n",
    "kfold = StratifiedKFold(n_splits=5, shuffle=True)\n",
    "cv_scores_wide = []\n",
    "for train, test in kfold.split(X_train, y_train):\n",
    "    # create model, train, and get recall\n",
    "    model = Wide()\n",
    "    recall = model_train(model, X_train[train], y_train[train], X_train[test], y_train[test])\n",
    "    print(\"Recall (wide): %.2f\" % recall)\n",
    "    cv_scores_wide.append(recall)\n",
    "cv_scores_deep = []\n",
    "for train, test in kfold.split(X_train, y_train):\n",
    "    # create model, train, and get recall\n",
    "    model = Deep()\n",
    "    recall = model_train(model, X_train[train], y_train[train], X_train[test], y_train[test])\n",
    "    print(\"Recall (deep): %.2f\" % recall)\n",
    "    cv_scores_deep.append(recall)\n",
    "\n",
    "# evaluate the model\n",
    "wide_recall = np.mean(cv_scores_wide)\n",
    "wide_std = np.std(cv_scores_wide)\n",
    "deep_recall = np.mean(cv_scores_deep)\n",
    "deep_std = np.std(cv_scores_deep)\n",
    "print(\"Wide: %.2f%% (+/- %.2f%%)\" % (wide_recall*100, wide_std*100))\n",
    "print(\"Deep: %.2f%% (+/- %.2f%%)\" % (deep_recall*100, deep_std*100))\n",
    "\n",
    "# rebuild model with full set of training data\n",
    "if wide_recall > deep_recall:\n",
    "    print(\"Retrain a wide model\")\n",
    "    model = Wide()\n",
    "else:\n",
    "    print(\"Retrain a deep model\")\n",
    "    model = Deep()\n",
    "recall = model_train(model, X_train, y_train, X_test, y_test)\n",
    "print(f\"Final model recall: {recall*100:.2f}%\")"
   ]
  },
  {
   "cell_type": "code",
   "execution_count": 10,
   "id": "39f64b48",
   "metadata": {
    "scrolled": false
   },
   "outputs": [
    {
     "data": {
      "image/png": "[encoded data removed]",
      "text/plain": [
       "<Figure size 900x900 with 2 Axes>"
      ]
     },
     "metadata": {},
     "output_type": "display_data"
    }
   ],
   "source": [
    "actuals = y_test.detach().numpy()\n",
    "predictions = model(X_test)\n",
    "predictions = predictions.round().detach().numpy()\n",
    "\n",
    "plt.figure(figsize=(9,9))\n",
    "nn_cm,_,(nn_accuracy, nn_recall, nn_precision,nn_f1) = cm.get_confusion_matrix(actuals, predictions)\n",
    "sns.heatmap(nn_cm, annot=True, fmt=\".3f\", linewidths=.5, square = True, cmap = 'Blues_r');\n",
    "plt.ylabel('Actual label');\n",
    "plt.xlabel('Predicted label');\n",
    "all_sample_title = 'Accuracy: {0:.5f}\\n Recall: {1:.5f}\\n Precision: {2:.5f}\\n F1: {3:.5f}'.format(nn_accuracy,nn_recall, nn_precision, nn_f1)\n",
    "plt.title(all_sample_title, size=15)\n",
    "plt.show()"
   ]
  },
  {
   "cell_type": "code",
   "execution_count": 14,
   "id": "f2b4c976",
   "metadata": {},
   "outputs": [],
   "source": [
    "torch.save(model.state_dict(), '../models/neural_networks_ii.pt')\n"
   ]
  },
  {
   "cell_type": "code",
   "execution_count": null,
   "id": "887a2ca1",
   "metadata": {},
   "outputs": [],
   "source": []
  }
 ],
 "metadata": {
  "kernelspec": {
   "display_name": "Python 3 (ipykernel)",
   "language": "python",
   "name": "python3"
  },
  "language_info": {
   "codemirror_mode": {
    "name": "ipython",
    "version": 3
   },
   "file_extension": ".py",
   "mimetype": "text/x-python",
   "name": "python",
   "nbconvert_exporter": "python",
   "pygments_lexer": "ipython3",
   "version": "3.10.9"
  }
 },
 "nbformat": 4,
 "nbformat_minor": 5
}
