{
 "cells": [
  {
   "cell_type": "code",
   "execution_count": 1,
   "metadata": {},
   "outputs": [],
   "source": [
    "from sklearn.model_selection import GridSearchCV\n",
    "from pandas import read_csv\n",
    "from sklearn import svm\n",
    "import pandas as pd\n",
    "import numpy as np\n",
    "import lightgbm as lgb\n",
    "from sklearn.model_selection import  GridSearchCV\n",
    "from sklearn.metrics import accuracy_score, precision_score, recall_score, f1_score\n",
    "from sklearn.model_selection import RandomizedSearchCV\n",
    "from skopt import BayesSearchCV\n",
    "from sklearn.decomposition import PCA\n",
    "from sklearn.preprocessing import StandardScaler\n",
    "from sklearn.pipeline import make_pipeline\n",
    "from sklearn.metrics import roc_auc_score, roc_curve"
   ]
  },
  {
   "cell_type": "code",
   "execution_count": 2,
   "metadata": {},
   "outputs": [],
   "source": [
    "# Read data\n",
    "train_data = pd.read_csv(\"/Users/alex/Desktop/data/6_train_dataset_augmented.csv\")\n",
    "X_train = train_data.drop('is_fraud', axis=1)\n",
    "y_train = train_data['is_fraud']\n",
    "\n",
    "test_data = pd.read_csv(\"/Users/alex/Desktop/data/4_test_dataset.csv\")\n",
    "X_test = test_data.drop('is_fraud', axis=1)\n",
    "y_test = test_data['is_fraud']"
   ]
  },
  {
   "cell_type": "markdown",
   "metadata": {},
   "source": [
    "## Training SVM model"
   ]
  },
  {
   "cell_type": "code",
   "execution_count": 3,
   "metadata": {},
   "outputs": [],
   "source": [
    "# train SVM model\n",
    "def train_model_svm(X_train, y_train, svm_model):\n",
    "\n",
    "    # hyperparameter\n",
    "    param_space = {\n",
    "        'C': (0.1, 1, 10, 1000),\n",
    "        'gamma': [0.1, 1, 10]\n",
    "    }\n",
    "\n",
    "    random_search = RandomizedSearchCV(\n",
    "        svm_model,\n",
    "        param_space,\n",
    "        n_iter=5,  # Number of parameter settings that are sampled\n",
    "        cv=3,\n",
    "        n_jobs=-1,\n",
    "        random_state=42\n",
    "    )\n",
    "    # fit the Bayesian search to your data\n",
    "    random_search.fit(X_train, y_train)\n",
    "\n",
    "    # get the best hyperparameters\n",
    "    best_params = random_search.best_params_\n",
    "\n",
    "    # print the best hyperparameters found\n",
    "    print(\"Best Hyperparameters:\", best_params)\n",
    "\n",
    "    # set the best hyperparameters to the model\n",
    "    svm_model.set_params(**best_params)\n",
    "\n",
    "    # train the final svm model on the entire training set\n",
    "    svm_model.fit(X_train, y_train)"
   ]
  },
  {
   "cell_type": "code",
   "execution_count": 4,
   "metadata": {},
   "outputs": [],
   "source": [
    "def evaluate_model(model, predX, predY):\n",
    "\n",
    "    y_pred = model.predict(predX)\n",
    "\n",
    "    # accuracy\n",
    "    acc =  accuracy_score(predY, y_pred)\n",
    "    print(\"Accuracy: %.2f%%\" % (acc * 100))\n",
    "\n",
    "    # precision\n",
    "    precision = precision_score(predY, y_pred)\n",
    "    print(\"Precision: %.2f\" % precision)\n",
    "\n",
    "    # recall\n",
    "    recall = recall_score(predY, y_pred)\n",
    "    print(\"Recall: %.2f\" % recall)\n",
    "\n",
    "    # f1 Score\n",
    "    f1 = f1_score(predY, y_pred)\n",
    "    print(\"F1 Score: %.2f\" % f1)\n",
    "\n",
    "    # ROC-AUC score\n",
    "    roc_auc = roc_auc_score(predY, y_pred)\n",
    "    print(\"ROC-AUC Score: %.2f\" % roc_auc)"
   ]
  },
  {
   "cell_type": "code",
   "execution_count": 5,
   "metadata": {},
   "outputs": [
    {
     "name": "stdout",
     "output_type": "stream",
     "text": [
      "Best Hyperparameters: {'gamma': 1, 'C': 1000}\n"
     ]
    }
   ],
   "source": [
    "# create the LightGBM model\n",
    "svm_model = svm.SVC()\n",
    "\n",
    "# train model\n",
    "train_model_svm(X_train,y_train, svm_model)"
   ]
  },
  {
   "cell_type": "code",
   "execution_count": 6,
   "metadata": {},
   "outputs": [
    {
     "name": "stdout",
     "output_type": "stream",
     "text": [
      "Accuracy: 37.43%\n",
      "Precision: 0.26\n",
      "Recall: 0.97\n",
      "F1 Score: 0.41\n",
      "ROC-AUC Score: 0.59\n"
     ]
    }
   ],
   "source": [
    "evaluate_model(svm_model,X_test, y_test)"
   ]
  }
 ],
 "metadata": {
  "kernelspec": {
   "display_name": "Python 3",
   "language": "python",
   "name": "python3"
  },
  "language_info": {
   "codemirror_mode": {
    "name": "ipython",
    "version": 3
   },
   "file_extension": ".py",
   "mimetype": "text/x-python",
   "name": "python",
   "nbconvert_exporter": "python",
   "pygments_lexer": "ipython3",
   "version": "3.9.6"
  }
 },
 "nbformat": 4,
 "nbformat_minor": 2
}
