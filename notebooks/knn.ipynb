{
 "cells": [
  {
   "cell_type": "markdown",
   "metadata": {},
   "source": [
    "# K Nearest Neighbour"
   ]
  },
  {
   "cell_type": "markdown",
   "metadata": {},
   "source": [
    "## Importing packages"
   ]
  },
  {
   "cell_type": "code",
   "execution_count": 1,
   "metadata": {},
   "outputs": [],
   "source": [
    "import pandas as pd\n",
    "import numpy as np\n",
    "import matplotlib.pyplot as plt\n",
    "from sklearn.neighbors import KNeighborsClassifier\n",
    "from sklearn.model_selection import GridSearchCV\n",
    "from sklearn.metrics import accuracy_score, recall_score, precision_score, f1_score\n",
    "from sklearn.inspection import permutation_importance\n",
    "\n",
    "pd.set_option('display.max_columns', None)"
   ]
  },
  {
   "cell_type": "markdown",
   "metadata": {},
   "source": [
    "## Importing data"
   ]
  },
  {
   "cell_type": "code",
   "execution_count": 2,
   "metadata": {},
   "outputs": [],
   "source": [
    "data = pd.read_csv('../data/6_train_dataset_augmented.csv')"
   ]
  },
  {
   "cell_type": "code",
   "execution_count": 3,
   "metadata": {},
   "outputs": [],
   "source": [
    "test = pd.read_csv('../data/4_test_dataset.csv')"
   ]
  },
  {
   "cell_type": "markdown",
   "metadata": {},
   "source": [
    "## KNN"
   ]
  },
  {
   "cell_type": "markdown",
   "metadata": {},
   "source": [
    "Getting X & y"
   ]
  },
  {
   "cell_type": "code",
   "execution_count": 4,
   "metadata": {},
   "outputs": [],
   "source": [
    "X = data.drop('is_fraud', axis=1)\n",
    "y = data['is_fraud']\n",
    "\n",
    "X_test = test.drop('is_fraud', axis=1)\n",
    "y_test = test['is_fraud']"
   ]
  },
  {
   "cell_type": "markdown",
   "metadata": {},
   "source": [
    "Initialise base KNN instance"
   ]
  },
  {
   "cell_type": "code",
   "execution_count": 4,
   "metadata": {},
   "outputs": [],
   "source": [
    "knn= KNeighborsClassifier()"
   ]
  },
  {
   "cell_type": "markdown",
   "metadata": {},
   "source": [
    "Initialise parameter grid for grid search"
   ]
  },
  {
   "cell_type": "code",
   "execution_count": 5,
   "metadata": {},
   "outputs": [],
   "source": [
    "parameter_grid = {\"n_neighbors\": range(1,21), \n",
    "                  \"weights\": ['uniform', 'distance'], \n",
    "                  \"p\": [1, 2]}"
   ]
  },
  {
   "cell_type": "markdown",
   "metadata": {},
   "source": [
    "Run grid search on KNN"
   ]
  },
  {
   "cell_type": "code",
   "execution_count": 6,
   "metadata": {},
   "outputs": [],
   "source": [
    "gs = GridSearchCV(estimator= knn,\n",
    "                  param_grid= parameter_grid,\n",
    "                  scoring= \"recall\",\n",
    "                  verbose= 4)"
   ]
  },
  {
   "cell_type": "code",
   "execution_count": 7,
   "metadata": {},
   "outputs": [
    {
     "name": "stdout",
     "output_type": "stream",
     "text": [
      "Fitting 5 folds for each of 80 candidates, totalling 400 fits\n"
     ]
    },
    {
     "name": "stdout",
     "output_type": "stream",
     "text": [
      "[CV 1/5] END n_neighbors=1, p=1, weights=uniform;, score=0.551 total time=   6.0s\n",
      "[CV 2/5] END n_neighbors=1, p=1, weights=uniform;, score=0.633 total time=   4.8s\n",
      "[CV 3/5] END n_neighbors=1, p=1, weights=uniform;, score=0.647 total time=   5.2s\n",
      "[CV 4/5] END n_neighbors=1, p=1, weights=uniform;, score=0.639 total time=   6.0s\n",
      "[CV 5/5] END n_neighbors=1, p=1, weights=uniform;, score=0.638 total time=   6.9s\n",
      "[CV 1/5] END n_neighbors=1, p=1, weights=distance;, score=0.551 total time=   5.3s\n",
      "[CV 2/5] END n_neighbors=1, p=1, weights=distance;, score=0.633 total time=   4.8s\n",
      "[CV 3/5] END n_neighbors=1, p=1, weights=distance;, score=0.647 total time=   5.6s\n",
      "[CV 4/5] END n_neighbors=1, p=1, weights=distance;, score=0.639 total time=   5.2s\n",
      "[CV 5/5] END n_neighbors=1, p=1, weights=distance;, score=0.638 total time=   4.7s\n",
      "[CV 1/5] END n_neighbors=1, p=2, weights=uniform;, score=0.535 total time=   2.7s\n",
      "[CV 2/5] END n_neighbors=1, p=2, weights=uniform;, score=0.611 total time=   2.2s\n",
      "[CV 3/5] END n_neighbors=1, p=2, weights=uniform;, score=0.622 total time=   2.5s\n",
      "[CV 4/5] END n_neighbors=1, p=2, weights=uniform;, score=0.622 total time=   2.5s\n",
      "[CV 5/5] END n_neighbors=1, p=2, weights=uniform;, score=0.618 total time=   2.0s\n",
      "[CV 1/5] END n_neighbors=1, p=2, weights=distance;, score=0.535 total time=   1.2s\n",
      "[CV 2/5] END n_neighbors=1, p=2, weights=distance;, score=0.611 total time=   1.0s\n",
      "[CV 3/5] END n_neighbors=1, p=2, weights=distance;, score=0.622 total time=   1.3s\n",
      "[CV 4/5] END n_neighbors=1, p=2, weights=distance;, score=0.622 total time=   1.2s\n",
      "[CV 5/5] END n_neighbors=1, p=2, weights=distance;, score=0.618 total time=   1.1s\n",
      "[CV 1/5] END n_neighbors=2, p=1, weights=uniform;, score=0.356 total time=   5.6s\n",
      "[CV 2/5] END n_neighbors=2, p=1, weights=uniform;, score=0.427 total time=   6.6s\n",
      "[CV 3/5] END n_neighbors=2, p=1, weights=uniform;, score=0.426 total time=   6.6s\n",
      "[CV 4/5] END n_neighbors=2, p=1, weights=uniform;, score=0.422 total time=   7.3s\n",
      "[CV 5/5] END n_neighbors=2, p=1, weights=uniform;, score=0.432 total time=   7.3s\n",
      "[CV 1/5] END n_neighbors=2, p=1, weights=distance;, score=0.551 total time=   4.4s\n",
      "[CV 2/5] END n_neighbors=2, p=1, weights=distance;, score=0.633 total time=   5.2s\n",
      "[CV 3/5] END n_neighbors=2, p=1, weights=distance;, score=0.647 total time=   6.1s\n",
      "[CV 4/5] END n_neighbors=2, p=1, weights=distance;, score=0.639 total time=   6.2s\n",
      "[CV 5/5] END n_neighbors=2, p=1, weights=distance;, score=0.638 total time=   5.0s\n",
      "[CV 1/5] END n_neighbors=2, p=2, weights=uniform;, score=0.330 total time=   2.2s\n",
      "[CV 2/5] END n_neighbors=2, p=2, weights=uniform;, score=0.404 total time=   1.7s\n",
      "[CV 3/5] END n_neighbors=2, p=2, weights=uniform;, score=0.404 total time=   2.0s\n",
      "[CV 4/5] END n_neighbors=2, p=2, weights=uniform;, score=0.397 total time=   1.9s\n",
      "[CV 5/5] END n_neighbors=2, p=2, weights=uniform;, score=0.406 total time=   2.4s\n",
      "[CV 1/5] END n_neighbors=2, p=2, weights=distance;, score=0.535 total time=   1.1s\n",
      "[CV 2/5] END n_neighbors=2, p=2, weights=distance;, score=0.611 total time=   1.1s\n",
      "[CV 3/5] END n_neighbors=2, p=2, weights=distance;, score=0.622 total time=   1.3s\n",
      "[CV 4/5] END n_neighbors=2, p=2, weights=distance;, score=0.622 total time=   1.5s\n",
      "[CV 5/5] END n_neighbors=2, p=2, weights=distance;, score=0.618 total time=   1.5s\n",
      "[CV 1/5] END n_neighbors=3, p=1, weights=uniform;, score=0.589 total time=   6.1s\n",
      "[CV 2/5] END n_neighbors=3, p=1, weights=uniform;, score=0.673 total time=   7.3s\n",
      "[CV 3/5] END n_neighbors=3, p=1, weights=uniform;, score=0.685 total time=   7.4s\n",
      "[CV 4/5] END n_neighbors=3, p=1, weights=uniform;, score=0.673 total time=   6.6s\n",
      "[CV 5/5] END n_neighbors=3, p=1, weights=uniform;, score=0.675 total time=   6.3s\n",
      "[CV 1/5] END n_neighbors=3, p=1, weights=distance;, score=0.585 total time=   5.0s\n",
      "[CV 2/5] END n_neighbors=3, p=1, weights=distance;, score=0.671 total time=   5.5s\n",
      "[CV 3/5] END n_neighbors=3, p=1, weights=distance;, score=0.681 total time=   6.0s\n",
      "[CV 4/5] END n_neighbors=3, p=1, weights=distance;, score=0.673 total time=   4.9s\n",
      "[CV 5/5] END n_neighbors=3, p=1, weights=distance;, score=0.669 total time=   5.9s\n",
      "[CV 1/5] END n_neighbors=3, p=2, weights=uniform;, score=0.565 total time=   2.2s\n",
      "[CV 2/5] END n_neighbors=3, p=2, weights=uniform;, score=0.645 total time=   2.4s\n",
      "[CV 3/5] END n_neighbors=3, p=2, weights=uniform;, score=0.651 total time=   2.4s\n",
      "[CV 4/5] END n_neighbors=3, p=2, weights=uniform;, score=0.639 total time=   2.3s\n",
      "[CV 5/5] END n_neighbors=3, p=2, weights=uniform;, score=0.650 total time=   2.6s\n",
      "[CV 1/5] END n_neighbors=3, p=2, weights=distance;, score=0.562 total time=   1.3s\n",
      "[CV 2/5] END n_neighbors=3, p=2, weights=distance;, score=0.641 total time=   1.1s\n",
      "[CV 3/5] END n_neighbors=3, p=2, weights=distance;, score=0.648 total time=   1.1s\n",
      "[CV 4/5] END n_neighbors=3, p=2, weights=distance;, score=0.638 total time=   1.4s\n",
      "[CV 5/5] END n_neighbors=3, p=2, weights=distance;, score=0.646 total time=   1.7s\n",
      "[CV 1/5] END n_neighbors=4, p=1, weights=uniform;, score=0.458 total time=   6.0s\n",
      "[CV 2/5] END n_neighbors=4, p=1, weights=uniform;, score=0.536 total time=   6.9s\n",
      "[CV 3/5] END n_neighbors=4, p=1, weights=uniform;, score=0.545 total time=   6.5s\n",
      "[CV 4/5] END n_neighbors=4, p=1, weights=uniform;, score=0.539 total time=   6.6s\n",
      "[CV 5/5] END n_neighbors=4, p=1, weights=uniform;, score=0.536 total time=   5.8s\n",
      "[CV 1/5] END n_neighbors=4, p=1, weights=distance;, score=0.590 total time=   4.7s\n",
      "[CV 2/5] END n_neighbors=4, p=1, weights=distance;, score=0.670 total time=   6.5s\n",
      "[CV 3/5] END n_neighbors=4, p=1, weights=distance;, score=0.684 total time=   5.0s\n",
      "[CV 4/5] END n_neighbors=4, p=1, weights=distance;, score=0.679 total time=   5.7s\n",
      "[CV 5/5] END n_neighbors=4, p=1, weights=distance;, score=0.670 total time=   5.7s\n",
      "[CV 1/5] END n_neighbors=4, p=2, weights=uniform;, score=0.427 total time=   2.4s\n",
      "[CV 2/5] END n_neighbors=4, p=2, weights=uniform;, score=0.500 total time=   2.8s\n",
      "[CV 3/5] END n_neighbors=4, p=2, weights=uniform;, score=0.514 total time=   2.5s\n",
      "[CV 4/5] END n_neighbors=4, p=2, weights=uniform;, score=0.501 total time=   2.1s\n",
      "[CV 5/5] END n_neighbors=4, p=2, weights=uniform;, score=0.508 total time=   2.2s\n",
      "[CV 1/5] END n_neighbors=4, p=2, weights=distance;, score=0.563 total time=   1.3s\n",
      "[CV 2/5] END n_neighbors=4, p=2, weights=distance;, score=0.647 total time=   1.1s\n",
      "[CV 3/5] END n_neighbors=4, p=2, weights=distance;, score=0.653 total time=   1.1s\n",
      "[CV 4/5] END n_neighbors=4, p=2, weights=distance;, score=0.649 total time=   1.3s\n",
      "[CV 5/5] END n_neighbors=4, p=2, weights=distance;, score=0.650 total time=   1.4s\n",
      "[CV 1/5] END n_neighbors=5, p=1, weights=uniform;, score=0.603 total time=   6.0s\n",
      "[CV 2/5] END n_neighbors=5, p=1, weights=uniform;, score=0.689 total time=   6.8s\n",
      "[CV 3/5] END n_neighbors=5, p=1, weights=uniform;, score=0.708 total time=   6.6s\n",
      "[CV 4/5] END n_neighbors=5, p=1, weights=uniform;, score=0.697 total time=   6.6s\n",
      "[CV 5/5] END n_neighbors=5, p=1, weights=uniform;, score=0.699 total time=   6.1s\n",
      "[CV 1/5] END n_neighbors=5, p=1, weights=distance;, score=0.601 total time=   4.3s\n",
      "[CV 2/5] END n_neighbors=5, p=1, weights=distance;, score=0.685 total time=   5.3s\n",
      "[CV 3/5] END n_neighbors=5, p=1, weights=distance;, score=0.703 total time=   5.0s\n",
      "[CV 4/5] END n_neighbors=5, p=1, weights=distance;, score=0.694 total time=   4.5s\n",
      "[CV 5/5] END n_neighbors=5, p=1, weights=distance;, score=0.693 total time=   5.7s\n",
      "[CV 1/5] END n_neighbors=5, p=2, weights=uniform;, score=0.581 total time=   2.1s\n",
      "[CV 2/5] END n_neighbors=5, p=2, weights=uniform;, score=0.658 total time=   1.8s\n",
      "[CV 3/5] END n_neighbors=5, p=2, weights=uniform;, score=0.676 total time=   2.3s\n",
      "[CV 4/5] END n_neighbors=5, p=2, weights=uniform;, score=0.667 total time=   2.5s\n",
      "[CV 5/5] END n_neighbors=5, p=2, weights=uniform;, score=0.665 total time=   2.5s\n",
      "[CV 1/5] END n_neighbors=5, p=2, weights=distance;, score=0.575 total time=   1.6s\n",
      "[CV 2/5] END n_neighbors=5, p=2, weights=distance;, score=0.654 total time=   1.7s\n",
      "[CV 3/5] END n_neighbors=5, p=2, weights=distance;, score=0.673 total time=   1.1s\n",
      "[CV 4/5] END n_neighbors=5, p=2, weights=distance;, score=0.667 total time=   1.0s\n",
      "[CV 5/5] END n_neighbors=5, p=2, weights=distance;, score=0.662 total time=   1.2s\n",
      "[CV 1/5] END n_neighbors=6, p=1, weights=uniform;, score=0.505 total time=   7.9s\n",
      "[CV 2/5] END n_neighbors=6, p=1, weights=uniform;, score=0.587 total time=   6.3s\n",
      "[CV 3/5] END n_neighbors=6, p=1, weights=uniform;, score=0.601 total time=   5.9s\n",
      "[CV 4/5] END n_neighbors=6, p=1, weights=uniform;, score=0.595 total time=   5.5s\n",
      "[CV 5/5] END n_neighbors=6, p=1, weights=uniform;, score=0.602 total time=   4.9s\n",
      "[CV 1/5] END n_neighbors=6, p=1, weights=distance;, score=0.609 total time=   5.8s\n",
      "[CV 2/5] END n_neighbors=6, p=1, weights=distance;, score=0.688 total time=   5.3s\n",
      "[CV 3/5] END n_neighbors=6, p=1, weights=distance;, score=0.709 total time=   4.6s\n",
      "[CV 4/5] END n_neighbors=6, p=1, weights=distance;, score=0.698 total time=   5.4s\n",
      "[CV 5/5] END n_neighbors=6, p=1, weights=distance;, score=0.697 total time=   5.4s\n",
      "[CV 1/5] END n_neighbors=6, p=2, weights=uniform;, score=0.472 total time=   2.3s\n",
      "[CV 2/5] END n_neighbors=6, p=2, weights=uniform;, score=0.559 total time=   2.5s\n",
      "[CV 3/5] END n_neighbors=6, p=2, weights=uniform;, score=0.571 total time=   2.2s\n",
      "[CV 4/5] END n_neighbors=6, p=2, weights=uniform;, score=0.553 total time=   1.8s\n",
      "[CV 5/5] END n_neighbors=6, p=2, weights=uniform;, score=0.571 total time=   1.8s\n",
      "[CV 1/5] END n_neighbors=6, p=2, weights=distance;, score=0.578 total time=   1.1s\n",
      "[CV 2/5] END n_neighbors=6, p=2, weights=distance;, score=0.659 total time=   1.3s\n",
      "[CV 3/5] END n_neighbors=6, p=2, weights=distance;, score=0.675 total time=   1.1s\n",
      "[CV 4/5] END n_neighbors=6, p=2, weights=distance;, score=0.666 total time=   1.0s\n",
      "[CV 5/5] END n_neighbors=6, p=2, weights=distance;, score=0.668 total time=   1.0s\n",
      "[CV 1/5] END n_neighbors=7, p=1, weights=uniform;, score=0.679 total time=   6.4s\n",
      "[CV 2/5] END n_neighbors=7, p=1, weights=uniform;, score=0.703 total time=   5.5s\n",
      "[CV 3/5] END n_neighbors=7, p=1, weights=uniform;, score=0.718 total time=   5.3s\n",
      "[CV 4/5] END n_neighbors=7, p=1, weights=uniform;, score=0.711 total time=   5.5s\n",
      "[CV 5/5] END n_neighbors=7, p=1, weights=uniform;, score=0.713 total time=   6.7s\n",
      "[CV 1/5] END n_neighbors=7, p=1, weights=distance;, score=0.617 total time=   4.8s\n",
      "[CV 2/5] END n_neighbors=7, p=1, weights=distance;, score=0.696 total time=   4.2s\n",
      "[CV 3/5] END n_neighbors=7, p=1, weights=distance;, score=0.714 total time=   5.7s\n",
      "[CV 4/5] END n_neighbors=7, p=1, weights=distance;, score=0.710 total time=   6.5s\n",
      "[CV 5/5] END n_neighbors=7, p=1, weights=distance;, score=0.705 total time=   4.7s\n",
      "[CV 1/5] END n_neighbors=7, p=2, weights=uniform;, score=0.647 total time=   2.4s\n",
      "[CV 2/5] END n_neighbors=7, p=2, weights=uniform;, score=0.675 total time=   2.4s\n",
      "[CV 3/5] END n_neighbors=7, p=2, weights=uniform;, score=0.694 total time=   2.2s\n",
      "[CV 4/5] END n_neighbors=7, p=2, weights=uniform;, score=0.678 total time=   2.4s\n",
      "[CV 5/5] END n_neighbors=7, p=2, weights=uniform;, score=0.686 total time=   2.4s\n",
      "[CV 1/5] END n_neighbors=7, p=2, weights=distance;, score=0.586 total time=   1.3s\n",
      "[CV 2/5] END n_neighbors=7, p=2, weights=distance;, score=0.671 total time=   1.6s\n",
      "[CV 3/5] END n_neighbors=7, p=2, weights=distance;, score=0.688 total time=   1.7s\n",
      "[CV 4/5] END n_neighbors=7, p=2, weights=distance;, score=0.672 total time=   1.8s\n",
      "[CV 5/5] END n_neighbors=7, p=2, weights=distance;, score=0.678 total time=   1.6s\n",
      "[CV 1/5] END n_neighbors=8, p=1, weights=uniform;, score=0.590 total time=   7.0s\n",
      "[CV 2/5] END n_neighbors=8, p=1, weights=uniform;, score=0.621 total time=   5.9s\n",
      "[CV 3/5] END n_neighbors=8, p=1, weights=uniform;, score=0.641 total time=   5.8s\n",
      "[CV 4/5] END n_neighbors=8, p=1, weights=uniform;, score=0.631 total time=   5.2s\n",
      "[CV 5/5] END n_neighbors=8, p=1, weights=uniform;, score=0.636 total time=   7.0s\n",
      "[CV 1/5] END n_neighbors=8, p=1, weights=distance;, score=0.618 total time=   4.8s\n",
      "[CV 2/5] END n_neighbors=8, p=1, weights=distance;, score=0.705 total time=   7.8s\n",
      "[CV 3/5] END n_neighbors=8, p=1, weights=distance;, score=0.723 total time=   5.9s\n",
      "[CV 4/5] END n_neighbors=8, p=1, weights=distance;, score=0.711 total time=   6.0s\n",
      "[CV 5/5] END n_neighbors=8, p=1, weights=distance;, score=0.709 total time=   5.5s\n",
      "[CV 1/5] END n_neighbors=8, p=2, weights=uniform;, score=0.567 total time=   2.4s\n",
      "[CV 2/5] END n_neighbors=8, p=2, weights=uniform;, score=0.588 total time=   2.2s\n",
      "[CV 3/5] END n_neighbors=8, p=2, weights=uniform;, score=0.604 total time=   2.1s\n",
      "[CV 4/5] END n_neighbors=8, p=2, weights=uniform;, score=0.591 total time=   1.9s\n",
      "[CV 5/5] END n_neighbors=8, p=2, weights=uniform;, score=0.601 total time=   1.8s\n",
      "[CV 1/5] END n_neighbors=8, p=2, weights=distance;, score=0.594 total time=   1.0s\n",
      "[CV 2/5] END n_neighbors=8, p=2, weights=distance;, score=0.668 total time=   1.4s\n",
      "[CV 3/5] END n_neighbors=8, p=2, weights=distance;, score=0.687 total time=   1.6s\n",
      "[CV 4/5] END n_neighbors=8, p=2, weights=distance;, score=0.681 total time=   1.4s\n",
      "[CV 5/5] END n_neighbors=8, p=2, weights=distance;, score=0.682 total time=   1.1s\n",
      "[CV 1/5] END n_neighbors=9, p=1, weights=uniform;, score=0.688 total time=   6.2s\n",
      "[CV 2/5] END n_neighbors=9, p=1, weights=uniform;, score=0.715 total time=   5.5s\n",
      "[CV 3/5] END n_neighbors=9, p=1, weights=uniform;, score=0.728 total time=   5.6s\n",
      "[CV 4/5] END n_neighbors=9, p=1, weights=uniform;, score=0.723 total time=   5.8s\n",
      "[CV 5/5] END n_neighbors=9, p=1, weights=uniform;, score=0.722 total time=   6.6s\n",
      "[CV 1/5] END n_neighbors=9, p=1, weights=distance;, score=0.628 total time=   5.0s\n",
      "[CV 2/5] END n_neighbors=9, p=1, weights=distance;, score=0.709 total time=   4.3s\n",
      "[CV 3/5] END n_neighbors=9, p=1, weights=distance;, score=0.726 total time=   5.2s\n",
      "[CV 4/5] END n_neighbors=9, p=1, weights=distance;, score=0.721 total time=   6.2s\n",
      "[CV 5/5] END n_neighbors=9, p=1, weights=distance;, score=0.713 total time=   5.8s\n",
      "[CV 1/5] END n_neighbors=9, p=2, weights=uniform;, score=0.655 total time=   2.5s\n",
      "[CV 2/5] END n_neighbors=9, p=2, weights=uniform;, score=0.681 total time=   2.7s\n",
      "[CV 3/5] END n_neighbors=9, p=2, weights=uniform;, score=0.697 total time=   2.3s\n",
      "[CV 4/5] END n_neighbors=9, p=2, weights=uniform;, score=0.687 total time=   2.4s\n",
      "[CV 5/5] END n_neighbors=9, p=2, weights=uniform;, score=0.697 total time=   2.2s\n",
      "[CV 1/5] END n_neighbors=9, p=2, weights=distance;, score=0.596 total time=   1.1s\n",
      "[CV 2/5] END n_neighbors=9, p=2, weights=distance;, score=0.675 total time=   1.3s\n",
      "[CV 3/5] END n_neighbors=9, p=2, weights=distance;, score=0.691 total time=   1.2s\n",
      "[CV 4/5] END n_neighbors=9, p=2, weights=distance;, score=0.683 total time=   1.1s\n",
      "[CV 5/5] END n_neighbors=9, p=2, weights=distance;, score=0.687 total time=   1.1s\n",
      "[CV 1/5] END n_neighbors=10, p=1, weights=uniform;, score=0.622 total time=   6.2s\n",
      "[CV 2/5] END n_neighbors=10, p=1, weights=uniform;, score=0.650 total time=   5.4s\n",
      "[CV 3/5] END n_neighbors=10, p=1, weights=uniform;, score=0.665 total time=   3.6s\n",
      "[CV 4/5] END n_neighbors=10, p=1, weights=uniform;, score=0.657 total time=   4.0s\n",
      "[CV 5/5] END n_neighbors=10, p=1, weights=uniform;, score=0.659 total time=   3.5s\n",
      "[CV 1/5] END n_neighbors=10, p=1, weights=distance;, score=0.627 total time=   3.7s\n",
      "[CV 2/5] END n_neighbors=10, p=1, weights=distance;, score=0.712 total time=   3.1s\n",
      "[CV 3/5] END n_neighbors=10, p=1, weights=distance;, score=0.729 total time=   3.8s\n",
      "[CV 4/5] END n_neighbors=10, p=1, weights=distance;, score=0.723 total time=   3.3s\n",
      "[CV 5/5] END n_neighbors=10, p=1, weights=distance;, score=0.719 total time=   3.8s\n",
      "[CV 1/5] END n_neighbors=10, p=2, weights=uniform;, score=0.583 total time=   1.2s\n",
      "[CV 2/5] END n_neighbors=10, p=2, weights=uniform;, score=0.613 total time=   1.2s\n",
      "[CV 3/5] END n_neighbors=10, p=2, weights=uniform;, score=0.624 total time=   1.3s\n",
      "[CV 4/5] END n_neighbors=10, p=2, weights=uniform;, score=0.620 total time=   1.6s\n",
      "[CV 5/5] END n_neighbors=10, p=2, weights=uniform;, score=0.630 total time=   1.2s\n",
      "[CV 1/5] END n_neighbors=10, p=2, weights=distance;, score=0.596 total time=   0.9s\n",
      "[CV 2/5] END n_neighbors=10, p=2, weights=distance;, score=0.681 total time=   0.9s\n",
      "[CV 3/5] END n_neighbors=10, p=2, weights=distance;, score=0.695 total time=   0.7s\n",
      "[CV 4/5] END n_neighbors=10, p=2, weights=distance;, score=0.688 total time=   0.7s\n",
      "[CV 5/5] END n_neighbors=10, p=2, weights=distance;, score=0.692 total time=   0.9s\n",
      "[CV 1/5] END n_neighbors=11, p=1, weights=uniform;, score=0.695 total time=   4.0s\n",
      "[CV 2/5] END n_neighbors=11, p=1, weights=uniform;, score=0.719 total time=   3.7s\n",
      "[CV 3/5] END n_neighbors=11, p=1, weights=uniform;, score=0.736 total time=   3.7s\n",
      "[CV 4/5] END n_neighbors=11, p=1, weights=uniform;, score=0.730 total time=   4.0s\n",
      "[CV 5/5] END n_neighbors=11, p=1, weights=uniform;, score=0.732 total time=   3.8s\n",
      "[CV 1/5] END n_neighbors=11, p=1, weights=distance;, score=0.635 total time=   3.8s\n",
      "[CV 2/5] END n_neighbors=11, p=1, weights=distance;, score=0.719 total time=   3.3s\n",
      "[CV 3/5] END n_neighbors=11, p=1, weights=distance;, score=0.732 total time=   4.3s\n",
      "[CV 4/5] END n_neighbors=11, p=1, weights=distance;, score=0.729 total time=   3.2s\n",
      "[CV 5/5] END n_neighbors=11, p=1, weights=distance;, score=0.723 total time=   4.4s\n",
      "[CV 1/5] END n_neighbors=11, p=2, weights=uniform;, score=0.660 total time=   1.3s\n",
      "[CV 2/5] END n_neighbors=11, p=2, weights=uniform;, score=0.691 total time=   1.3s\n",
      "[CV 3/5] END n_neighbors=11, p=2, weights=uniform;, score=0.701 total time=   1.3s\n",
      "[CV 4/5] END n_neighbors=11, p=2, weights=uniform;, score=0.698 total time=   1.8s\n",
      "[CV 5/5] END n_neighbors=11, p=2, weights=uniform;, score=0.701 total time=   1.1s\n",
      "[CV 1/5] END n_neighbors=11, p=2, weights=distance;, score=0.597 total time=   0.8s\n",
      "[CV 2/5] END n_neighbors=11, p=2, weights=distance;, score=0.686 total time=   0.9s\n",
      "[CV 3/5] END n_neighbors=11, p=2, weights=distance;, score=0.697 total time=   0.8s\n",
      "[CV 4/5] END n_neighbors=11, p=2, weights=distance;, score=0.697 total time=   0.8s\n",
      "[CV 5/5] END n_neighbors=11, p=2, weights=distance;, score=0.692 total time=   1.2s\n",
      "[CV 1/5] END n_neighbors=12, p=1, weights=uniform;, score=0.637 total time=   4.1s\n",
      "[CV 2/5] END n_neighbors=12, p=1, weights=uniform;, score=0.663 total time=   3.9s\n",
      "[CV 3/5] END n_neighbors=12, p=1, weights=uniform;, score=0.681 total time=   4.8s\n",
      "[CV 4/5] END n_neighbors=12, p=1, weights=uniform;, score=0.671 total time=   5.4s\n",
      "[CV 5/5] END n_neighbors=12, p=1, weights=uniform;, score=0.677 total time=   4.2s\n",
      "[CV 1/5] END n_neighbors=12, p=1, weights=distance;, score=0.634 total time=   4.1s\n",
      "[CV 2/5] END n_neighbors=12, p=1, weights=distance;, score=0.720 total time=   4.0s\n",
      "[CV 3/5] END n_neighbors=12, p=1, weights=distance;, score=0.738 total time=   3.5s\n",
      "[CV 4/5] END n_neighbors=12, p=1, weights=distance;, score=0.732 total time=   4.0s\n",
      "[CV 5/5] END n_neighbors=12, p=1, weights=distance;, score=0.724 total time=   4.2s\n",
      "[CV 1/5] END n_neighbors=12, p=2, weights=uniform;, score=0.601 total time=   1.7s\n",
      "[CV 2/5] END n_neighbors=12, p=2, weights=uniform;, score=0.636 total time=   1.4s\n",
      "[CV 3/5] END n_neighbors=12, p=2, weights=uniform;, score=0.641 total time=   1.4s\n",
      "[CV 4/5] END n_neighbors=12, p=2, weights=uniform;, score=0.639 total time=   1.3s\n",
      "[CV 5/5] END n_neighbors=12, p=2, weights=uniform;, score=0.645 total time=   1.2s\n",
      "[CV 1/5] END n_neighbors=12, p=2, weights=distance;, score=0.599 total time=   1.0s\n",
      "[CV 2/5] END n_neighbors=12, p=2, weights=distance;, score=0.693 total time=   1.0s\n",
      "[CV 3/5] END n_neighbors=12, p=2, weights=distance;, score=0.699 total time=   0.9s\n",
      "[CV 4/5] END n_neighbors=12, p=2, weights=distance;, score=0.695 total time=   1.0s\n",
      "[CV 5/5] END n_neighbors=12, p=2, weights=distance;, score=0.693 total time=   0.9s\n",
      "[CV 1/5] END n_neighbors=13, p=1, weights=uniform;, score=0.702 total time=   4.5s\n",
      "[CV 2/5] END n_neighbors=13, p=1, weights=uniform;, score=0.729 total time=   3.8s\n",
      "[CV 3/5] END n_neighbors=13, p=1, weights=uniform;, score=0.745 total time=   4.8s\n",
      "[CV 4/5] END n_neighbors=13, p=1, weights=uniform;, score=0.729 total time=   4.7s\n",
      "[CV 5/5] END n_neighbors=13, p=1, weights=uniform;, score=0.735 total time=   4.1s\n",
      "[CV 1/5] END n_neighbors=13, p=1, weights=distance;, score=0.643 total time=   3.9s\n",
      "[CV 2/5] END n_neighbors=13, p=1, weights=distance;, score=0.727 total time=   3.6s\n",
      "[CV 3/5] END n_neighbors=13, p=1, weights=distance;, score=0.742 total time=   4.2s\n",
      "[CV 4/5] END n_neighbors=13, p=1, weights=distance;, score=0.731 total time=   3.4s\n",
      "[CV 5/5] END n_neighbors=13, p=1, weights=distance;, score=0.727 total time=   4.1s\n",
      "[CV 1/5] END n_neighbors=13, p=2, weights=uniform;, score=0.668 total time=   1.3s\n",
      "[CV 2/5] END n_neighbors=13, p=2, weights=uniform;, score=0.698 total time=   1.1s\n",
      "[CV 3/5] END n_neighbors=13, p=2, weights=uniform;, score=0.708 total time=   1.2s\n",
      "[CV 4/5] END n_neighbors=13, p=2, weights=uniform;, score=0.697 total time=   1.3s\n",
      "[CV 5/5] END n_neighbors=13, p=2, weights=uniform;, score=0.705 total time=   1.4s\n",
      "[CV 1/5] END n_neighbors=13, p=2, weights=distance;, score=0.606 total time=   0.7s\n",
      "[CV 2/5] END n_neighbors=13, p=2, weights=distance;, score=0.697 total time=   0.8s\n",
      "[CV 3/5] END n_neighbors=13, p=2, weights=distance;, score=0.702 total time=   0.8s\n",
      "[CV 4/5] END n_neighbors=13, p=2, weights=distance;, score=0.698 total time=   0.9s\n",
      "[CV 5/5] END n_neighbors=13, p=2, weights=distance;, score=0.699 total time=   1.2s\n",
      "[CV 1/5] END n_neighbors=14, p=1, weights=uniform;, score=0.650 total time=   4.5s\n",
      "[CV 2/5] END n_neighbors=14, p=1, weights=uniform;, score=0.680 total time=   4.2s\n",
      "[CV 3/5] END n_neighbors=14, p=1, weights=uniform;, score=0.693 total time=   3.8s\n",
      "[CV 4/5] END n_neighbors=14, p=1, weights=uniform;, score=0.681 total time=   4.2s\n",
      "[CV 5/5] END n_neighbors=14, p=1, weights=uniform;, score=0.686 total time=   3.7s\n",
      "[CV 1/5] END n_neighbors=14, p=1, weights=distance;, score=0.669 total time=   4.0s\n",
      "[CV 2/5] END n_neighbors=14, p=1, weights=distance;, score=0.728 total time=   3.6s\n",
      "[CV 3/5] END n_neighbors=14, p=1, weights=distance;, score=0.743 total time=   3.8s\n",
      "[CV 4/5] END n_neighbors=14, p=1, weights=distance;, score=0.731 total time=   3.5s\n",
      "[CV 5/5] END n_neighbors=14, p=1, weights=distance;, score=0.729 total time=   3.9s\n",
      "[CV 1/5] END n_neighbors=14, p=2, weights=uniform;, score=0.612 total time=   1.2s\n",
      "[CV 2/5] END n_neighbors=14, p=2, weights=uniform;, score=0.646 total time=   1.3s\n",
      "[CV 3/5] END n_neighbors=14, p=2, weights=uniform;, score=0.656 total time=   1.1s\n",
      "[CV 4/5] END n_neighbors=14, p=2, weights=uniform;, score=0.648 total time=   1.3s\n",
      "[CV 5/5] END n_neighbors=14, p=2, weights=uniform;, score=0.658 total time=   1.3s\n",
      "[CV 1/5] END n_neighbors=14, p=2, weights=distance;, score=0.610 total time=   0.8s\n",
      "[CV 2/5] END n_neighbors=14, p=2, weights=distance;, score=0.696 total time=   0.9s\n",
      "[CV 3/5] END n_neighbors=14, p=2, weights=distance;, score=0.703 total time=   0.8s\n",
      "[CV 4/5] END n_neighbors=14, p=2, weights=distance;, score=0.703 total time=   0.7s\n",
      "[CV 5/5] END n_neighbors=14, p=2, weights=distance;, score=0.697 total time=   0.9s\n",
      "[CV 1/5] END n_neighbors=15, p=1, weights=uniform;, score=0.700 total time=   4.3s\n",
      "[CV 2/5] END n_neighbors=15, p=1, weights=uniform;, score=0.732 total time=   3.8s\n",
      "[CV 3/5] END n_neighbors=15, p=1, weights=uniform;, score=0.750 total time=   3.9s\n",
      "[CV 4/5] END n_neighbors=15, p=1, weights=uniform;, score=0.735 total time=   4.1s\n",
      "[CV 5/5] END n_neighbors=15, p=1, weights=uniform;, score=0.735 total time=   3.6s\n",
      "[CV 1/5] END n_neighbors=15, p=1, weights=distance;, score=0.671 total time=   3.9s\n",
      "[CV 2/5] END n_neighbors=15, p=1, weights=distance;, score=0.730 total time=   3.5s\n",
      "[CV 3/5] END n_neighbors=15, p=1, weights=distance;, score=0.750 total time=   3.9s\n",
      "[CV 4/5] END n_neighbors=15, p=1, weights=distance;, score=0.734 total time=   4.1s\n",
      "[CV 5/5] END n_neighbors=15, p=1, weights=distance;, score=0.731 total time=   4.5s\n",
      "[CV 1/5] END n_neighbors=15, p=2, weights=uniform;, score=0.670 total time=   1.3s\n",
      "[CV 2/5] END n_neighbors=15, p=2, weights=uniform;, score=0.699 total time=   1.4s\n",
      "[CV 3/5] END n_neighbors=15, p=2, weights=uniform;, score=0.714 total time=   1.5s\n",
      "[CV 4/5] END n_neighbors=15, p=2, weights=uniform;, score=0.707 total time=   1.9s\n",
      "[CV 5/5] END n_neighbors=15, p=2, weights=uniform;, score=0.710 total time=   1.1s\n",
      "[CV 1/5] END n_neighbors=15, p=2, weights=distance;, score=0.638 total time=   0.7s\n",
      "[CV 2/5] END n_neighbors=15, p=2, weights=distance;, score=0.697 total time=   0.8s\n",
      "[CV 3/5] END n_neighbors=15, p=2, weights=distance;, score=0.706 total time=   1.3s\n",
      "[CV 4/5] END n_neighbors=15, p=2, weights=distance;, score=0.704 total time=   1.6s\n",
      "[CV 5/5] END n_neighbors=15, p=2, weights=distance;, score=0.699 total time=   1.0s\n",
      "[CV 1/5] END n_neighbors=16, p=1, weights=uniform;, score=0.660 total time=   5.6s\n",
      "[CV 2/5] END n_neighbors=16, p=1, weights=uniform;, score=0.688 total time=   6.6s\n",
      "[CV 3/5] END n_neighbors=16, p=1, weights=uniform;, score=0.704 total time=   4.1s\n",
      "[CV 4/5] END n_neighbors=16, p=1, weights=uniform;, score=0.694 total time=   4.8s\n",
      "[CV 5/5] END n_neighbors=16, p=1, weights=uniform;, score=0.695 total time=   4.8s\n",
      "[CV 1/5] END n_neighbors=16, p=1, weights=distance;, score=0.672 total time=   3.6s\n",
      "[CV 2/5] END n_neighbors=16, p=1, weights=distance;, score=0.727 total time=   4.2s\n",
      "[CV 3/5] END n_neighbors=16, p=1, weights=distance;, score=0.749 total time=   3.7s\n",
      "[CV 4/5] END n_neighbors=16, p=1, weights=distance;, score=0.736 total time=   4.2s\n",
      "[CV 5/5] END n_neighbors=16, p=1, weights=distance;, score=0.732 total time=   4.1s\n",
      "[CV 1/5] END n_neighbors=16, p=2, weights=uniform;, score=0.623 total time=   1.7s\n",
      "[CV 2/5] END n_neighbors=16, p=2, weights=uniform;, score=0.658 total time=   1.5s\n",
      "[CV 3/5] END n_neighbors=16, p=2, weights=uniform;, score=0.671 total time=   1.2s\n",
      "[CV 4/5] END n_neighbors=16, p=2, weights=uniform;, score=0.660 total time=   1.1s\n",
      "[CV 5/5] END n_neighbors=16, p=2, weights=uniform;, score=0.668 total time=   1.2s\n",
      "[CV 1/5] END n_neighbors=16, p=2, weights=distance;, score=0.612 total time=   0.9s\n",
      "[CV 2/5] END n_neighbors=16, p=2, weights=distance;, score=0.700 total time=   1.1s\n",
      "[CV 3/5] END n_neighbors=16, p=2, weights=distance;, score=0.714 total time=   1.0s\n",
      "[CV 4/5] END n_neighbors=16, p=2, weights=distance;, score=0.709 total time=   0.9s\n",
      "[CV 5/5] END n_neighbors=16, p=2, weights=distance;, score=0.705 total time=   1.1s\n",
      "[CV 1/5] END n_neighbors=17, p=1, weights=uniform;, score=0.709 total time=   5.2s\n",
      "[CV 2/5] END n_neighbors=17, p=1, weights=uniform;, score=0.733 total time=   4.7s\n",
      "[CV 3/5] END n_neighbors=17, p=1, weights=uniform;, score=0.751 total time=   4.0s\n",
      "[CV 4/5] END n_neighbors=17, p=1, weights=uniform;, score=0.743 total time=   4.4s\n",
      "[CV 5/5] END n_neighbors=17, p=1, weights=uniform;, score=0.742 total time=   4.1s\n",
      "[CV 1/5] END n_neighbors=17, p=1, weights=distance;, score=0.678 total time=   5.1s\n",
      "[CV 2/5] END n_neighbors=17, p=1, weights=distance;, score=0.733 total time=   4.4s\n",
      "[CV 3/5] END n_neighbors=17, p=1, weights=distance;, score=0.751 total time=   4.2s\n",
      "[CV 4/5] END n_neighbors=17, p=1, weights=distance;, score=0.739 total time=   4.4s\n",
      "[CV 5/5] END n_neighbors=17, p=1, weights=distance;, score=0.736 total time=   3.5s\n",
      "[CV 1/5] END n_neighbors=17, p=2, weights=uniform;, score=0.671 total time=   1.3s\n",
      "[CV 2/5] END n_neighbors=17, p=2, weights=uniform;, score=0.704 total time=   1.9s\n",
      "[CV 3/5] END n_neighbors=17, p=2, weights=uniform;, score=0.719 total time=   1.6s\n",
      "[CV 4/5] END n_neighbors=17, p=2, weights=uniform;, score=0.710 total time=   1.4s\n",
      "[CV 5/5] END n_neighbors=17, p=2, weights=uniform;, score=0.712 total time=   1.4s\n",
      "[CV 1/5] END n_neighbors=17, p=2, weights=distance;, score=0.642 total time=   1.1s\n",
      "[CV 2/5] END n_neighbors=17, p=2, weights=distance;, score=0.702 total time=   1.5s\n",
      "[CV 3/5] END n_neighbors=17, p=2, weights=distance;, score=0.717 total time=   1.0s\n",
      "[CV 4/5] END n_neighbors=17, p=2, weights=distance;, score=0.707 total time=   0.8s\n",
      "[CV 5/5] END n_neighbors=17, p=2, weights=distance;, score=0.708 total time=   0.9s\n",
      "[CV 1/5] END n_neighbors=18, p=1, weights=uniform;, score=0.671 total time=   4.7s\n",
      "[CV 2/5] END n_neighbors=18, p=1, weights=uniform;, score=0.696 total time=   4.2s\n",
      "[CV 3/5] END n_neighbors=18, p=1, weights=uniform;, score=0.713 total time=   4.9s\n",
      "[CV 4/5] END n_neighbors=18, p=1, weights=uniform;, score=0.706 total time=   4.3s\n",
      "[CV 5/5] END n_neighbors=18, p=1, weights=uniform;, score=0.706 total time=   4.1s\n",
      "[CV 1/5] END n_neighbors=18, p=1, weights=distance;, score=0.678 total time=   4.0s\n",
      "[CV 2/5] END n_neighbors=18, p=1, weights=distance;, score=0.736 total time=   3.6s\n",
      "[CV 3/5] END n_neighbors=18, p=1, weights=distance;, score=0.752 total time=   4.0s\n",
      "[CV 4/5] END n_neighbors=18, p=1, weights=distance;, score=0.742 total time=   3.6s\n",
      "[CV 5/5] END n_neighbors=18, p=1, weights=distance;, score=0.737 total time=   4.7s\n",
      "[CV 1/5] END n_neighbors=18, p=2, weights=uniform;, score=0.635 total time=   1.5s\n",
      "[CV 2/5] END n_neighbors=18, p=2, weights=uniform;, score=0.664 total time=   1.4s\n",
      "[CV 3/5] END n_neighbors=18, p=2, weights=uniform;, score=0.678 total time=   1.2s\n",
      "[CV 4/5] END n_neighbors=18, p=2, weights=uniform;, score=0.670 total time=   1.5s\n",
      "[CV 5/5] END n_neighbors=18, p=2, weights=uniform;, score=0.676 total time=   1.3s\n",
      "[CV 1/5] END n_neighbors=18, p=2, weights=distance;, score=0.613 total time=   0.8s\n",
      "[CV 2/5] END n_neighbors=18, p=2, weights=distance;, score=0.703 total time=   0.9s\n",
      "[CV 3/5] END n_neighbors=18, p=2, weights=distance;, score=0.716 total time=   0.9s\n",
      "[CV 4/5] END n_neighbors=18, p=2, weights=distance;, score=0.710 total time=   1.1s\n",
      "[CV 5/5] END n_neighbors=18, p=2, weights=distance;, score=0.711 total time=   1.2s\n",
      "[CV 1/5] END n_neighbors=19, p=1, weights=uniform;, score=0.714 total time=   5.0s\n",
      "[CV 2/5] END n_neighbors=19, p=1, weights=uniform;, score=0.735 total time=   4.9s\n",
      "[CV 3/5] END n_neighbors=19, p=1, weights=uniform;, score=0.755 total time=   4.9s\n",
      "[CV 4/5] END n_neighbors=19, p=1, weights=uniform;, score=0.745 total time=   5.0s\n",
      "[CV 5/5] END n_neighbors=19, p=1, weights=uniform;, score=0.746 total time=   5.0s\n",
      "[CV 1/5] END n_neighbors=19, p=1, weights=distance;, score=0.680 total time=   5.1s\n",
      "[CV 2/5] END n_neighbors=19, p=1, weights=distance;, score=0.737 total time=   4.5s\n",
      "[CV 3/5] END n_neighbors=19, p=1, weights=distance;, score=0.756 total time=   5.3s\n",
      "[CV 4/5] END n_neighbors=19, p=1, weights=distance;, score=0.742 total time=   4.6s\n",
      "[CV 5/5] END n_neighbors=19, p=1, weights=distance;, score=0.740 total time=   4.8s\n",
      "[CV 1/5] END n_neighbors=19, p=2, weights=uniform;, score=0.679 total time=   1.6s\n",
      "[CV 2/5] END n_neighbors=19, p=2, weights=uniform;, score=0.706 total time=   1.8s\n",
      "[CV 3/5] END n_neighbors=19, p=2, weights=uniform;, score=0.724 total time=   1.7s\n",
      "[CV 4/5] END n_neighbors=19, p=2, weights=uniform;, score=0.716 total time=   1.6s\n",
      "[CV 5/5] END n_neighbors=19, p=2, weights=uniform;, score=0.713 total time=   1.5s\n",
      "[CV 1/5] END n_neighbors=19, p=2, weights=distance;, score=0.642 total time=   1.2s\n",
      "[CV 2/5] END n_neighbors=19, p=2, weights=distance;, score=0.706 total time=   1.1s\n",
      "[CV 3/5] END n_neighbors=19, p=2, weights=distance;, score=0.720 total time=   1.0s\n",
      "[CV 4/5] END n_neighbors=19, p=2, weights=distance;, score=0.713 total time=   1.2s\n",
      "[CV 5/5] END n_neighbors=19, p=2, weights=distance;, score=0.713 total time=   0.9s\n",
      "[CV 1/5] END n_neighbors=20, p=1, weights=uniform;, score=0.675 total time=   5.0s\n",
      "[CV 2/5] END n_neighbors=20, p=1, weights=uniform;, score=0.705 total time=   3.8s\n",
      "[CV 3/5] END n_neighbors=20, p=1, weights=uniform;, score=0.723 total time=   5.5s\n",
      "[CV 4/5] END n_neighbors=20, p=1, weights=uniform;, score=0.710 total time=   4.2s\n",
      "[CV 5/5] END n_neighbors=20, p=1, weights=uniform;, score=0.712 total time=   3.8s\n",
      "[CV 1/5] END n_neighbors=20, p=1, weights=distance;, score=0.681 total time=   4.5s\n",
      "[CV 2/5] END n_neighbors=20, p=1, weights=distance;, score=0.737 total time=   3.9s\n",
      "[CV 3/5] END n_neighbors=20, p=1, weights=distance;, score=0.758 total time=   4.4s\n",
      "[CV 4/5] END n_neighbors=20, p=1, weights=distance;, score=0.744 total time=   4.4s\n",
      "[CV 5/5] END n_neighbors=20, p=1, weights=distance;, score=0.739 total time=   4.2s\n",
      "[CV 1/5] END n_neighbors=20, p=2, weights=uniform;, score=0.644 total time=   1.1s\n",
      "[CV 2/5] END n_neighbors=20, p=2, weights=uniform;, score=0.671 total time=   1.2s\n",
      "[CV 3/5] END n_neighbors=20, p=2, weights=uniform;, score=0.690 total time=   1.0s\n",
      "[CV 4/5] END n_neighbors=20, p=2, weights=uniform;, score=0.681 total time=   1.6s\n",
      "[CV 5/5] END n_neighbors=20, p=2, weights=uniform;, score=0.680 total time=   1.2s\n",
      "[CV 1/5] END n_neighbors=20, p=2, weights=distance;, score=0.646 total time=   0.9s\n",
      "[CV 2/5] END n_neighbors=20, p=2, weights=distance;, score=0.706 total time=   0.9s\n",
      "[CV 3/5] END n_neighbors=20, p=2, weights=distance;, score=0.721 total time=   1.0s\n",
      "[CV 4/5] END n_neighbors=20, p=2, weights=distance;, score=0.716 total time=   1.0s\n",
      "[CV 5/5] END n_neighbors=20, p=2, weights=distance;, score=0.714 total time=   1.2s\n"
     ]
    },
    {
     "data": {
      "text/html": [
       "<style>#sk-container-id-1 {color: black;background-color: white;}#sk-container-id-1 pre{padding: 0;}#sk-container-id-1 div.sk-toggleable {background-color: white;}#sk-container-id-1 label.sk-toggleable__label {cursor: pointer;display: block;width: 100%;margin-bottom: 0;padding: 0.3em;box-sizing: border-box;text-align: center;}#sk-container-id-1 label.sk-toggleable__label-arrow:before {content: \"▸\";float: left;margin-right: 0.25em;color: #696969;}#sk-container-id-1 label.sk-toggleable__label-arrow:hover:before {color: black;}#sk-container-id-1 div.sk-estimator:hover label.sk-toggleable__label-arrow:before {color: black;}#sk-container-id-1 div.sk-toggleable__content {max-height: 0;max-width: 0;overflow: hidden;text-align: left;background-color: #f0f8ff;}#sk-container-id-1 div.sk-toggleable__content pre {margin: 0.2em;color: black;border-radius: 0.25em;background-color: #f0f8ff;}#sk-container-id-1 input.sk-toggleable__control:checked~div.sk-toggleable__content {max-height: 200px;max-width: 100%;overflow: auto;}#sk-container-id-1 input.sk-toggleable__control:checked~label.sk-toggleable__label-arrow:before {content: \"▾\";}#sk-container-id-1 div.sk-estimator input.sk-toggleable__control:checked~label.sk-toggleable__label {background-color: #d4ebff;}#sk-container-id-1 div.sk-label input.sk-toggleable__control:checked~label.sk-toggleable__label {background-color: #d4ebff;}#sk-container-id-1 input.sk-hidden--visually {border: 0;clip: rect(1px 1px 1px 1px);clip: rect(1px, 1px, 1px, 1px);height: 1px;margin: -1px;overflow: hidden;padding: 0;position: absolute;width: 1px;}#sk-container-id-1 div.sk-estimator {font-family: monospace;background-color: #f0f8ff;border: 1px dotted black;border-radius: 0.25em;box-sizing: border-box;margin-bottom: 0.5em;}#sk-container-id-1 div.sk-estimator:hover {background-color: #d4ebff;}#sk-container-id-1 div.sk-parallel-item::after {content: \"\";width: 100%;border-bottom: 1px solid gray;flex-grow: 1;}#sk-container-id-1 div.sk-label:hover label.sk-toggleable__label {background-color: #d4ebff;}#sk-container-id-1 div.sk-serial::before {content: \"\";position: absolute;border-left: 1px solid gray;box-sizing: border-box;top: 0;bottom: 0;left: 50%;z-index: 0;}#sk-container-id-1 div.sk-serial {display: flex;flex-direction: column;align-items: center;background-color: white;padding-right: 0.2em;padding-left: 0.2em;position: relative;}#sk-container-id-1 div.sk-item {position: relative;z-index: 1;}#sk-container-id-1 div.sk-parallel {display: flex;align-items: stretch;justify-content: center;background-color: white;position: relative;}#sk-container-id-1 div.sk-item::before, #sk-container-id-1 div.sk-parallel-item::before {content: \"\";position: absolute;border-left: 1px solid gray;box-sizing: border-box;top: 0;bottom: 0;left: 50%;z-index: -1;}#sk-container-id-1 div.sk-parallel-item {display: flex;flex-direction: column;z-index: 1;position: relative;background-color: white;}#sk-container-id-1 div.sk-parallel-item:first-child::after {align-self: flex-end;width: 50%;}#sk-container-id-1 div.sk-parallel-item:last-child::after {align-self: flex-start;width: 50%;}#sk-container-id-1 div.sk-parallel-item:only-child::after {width: 0;}#sk-container-id-1 div.sk-dashed-wrapped {border: 1px dashed gray;margin: 0 0.4em 0.5em 0.4em;box-sizing: border-box;padding-bottom: 0.4em;background-color: white;}#sk-container-id-1 div.sk-label label {font-family: monospace;font-weight: bold;display: inline-block;line-height: 1.2em;}#sk-container-id-1 div.sk-label-container {text-align: center;}#sk-container-id-1 div.sk-container {/* jupyter's `normalize.less` sets `[hidden] { display: none; }` but bootstrap.min.css set `[hidden] { display: none !important; }` so we also need the `!important` here to be able to override the default hidden behavior on the sphinx rendered scikit-learn.org. See: https://github.com/scikit-learn/scikit-learn/issues/21755 */display: inline-block !important;position: relative;}#sk-container-id-1 div.sk-text-repr-fallback {display: none;}</style><div id=\"sk-container-id-1\" class=\"sk-top-container\"><div class=\"sk-text-repr-fallback\"><pre>GridSearchCV(estimator=KNeighborsClassifier(),\n",
       "             param_grid={&#x27;n_neighbors&#x27;: range(1, 21), &#x27;p&#x27;: [1, 2],\n",
       "                         &#x27;weights&#x27;: [&#x27;uniform&#x27;, &#x27;distance&#x27;]},\n",
       "             scoring=&#x27;recall&#x27;, verbose=4)</pre><b>In a Jupyter environment, please rerun this cell to show the HTML representation or trust the notebook. <br />On GitHub, the HTML representation is unable to render, please try loading this page with nbviewer.org.</b></div><div class=\"sk-container\" hidden><div class=\"sk-item sk-dashed-wrapped\"><div class=\"sk-label-container\"><div class=\"sk-label sk-toggleable\"><input class=\"sk-toggleable__control sk-hidden--visually\" id=\"sk-estimator-id-1\" type=\"checkbox\" ><label for=\"sk-estimator-id-1\" class=\"sk-toggleable__label sk-toggleable__label-arrow\">GridSearchCV</label><div class=\"sk-toggleable__content\"><pre>GridSearchCV(estimator=KNeighborsClassifier(),\n",
       "             param_grid={&#x27;n_neighbors&#x27;: range(1, 21), &#x27;p&#x27;: [1, 2],\n",
       "                         &#x27;weights&#x27;: [&#x27;uniform&#x27;, &#x27;distance&#x27;]},\n",
       "             scoring=&#x27;recall&#x27;, verbose=4)</pre></div></div></div><div class=\"sk-parallel\"><div class=\"sk-parallel-item\"><div class=\"sk-item\"><div class=\"sk-label-container\"><div class=\"sk-label sk-toggleable\"><input class=\"sk-toggleable__control sk-hidden--visually\" id=\"sk-estimator-id-2\" type=\"checkbox\" ><label for=\"sk-estimator-id-2\" class=\"sk-toggleable__label sk-toggleable__label-arrow\">estimator: KNeighborsClassifier</label><div class=\"sk-toggleable__content\"><pre>KNeighborsClassifier()</pre></div></div></div><div class=\"sk-serial\"><div class=\"sk-item\"><div class=\"sk-estimator sk-toggleable\"><input class=\"sk-toggleable__control sk-hidden--visually\" id=\"sk-estimator-id-3\" type=\"checkbox\" ><label for=\"sk-estimator-id-3\" class=\"sk-toggleable__label sk-toggleable__label-arrow\">KNeighborsClassifier</label><div class=\"sk-toggleable__content\"><pre>KNeighborsClassifier()</pre></div></div></div></div></div></div></div></div></div></div>"
      ],
      "text/plain": [
       "GridSearchCV(estimator=KNeighborsClassifier(),\n",
       "             param_grid={'n_neighbors': range(1, 21), 'p': [1, 2],\n",
       "                         'weights': ['uniform', 'distance']},\n",
       "             scoring='recall', verbose=4)"
      ]
     },
     "execution_count": 7,
     "metadata": {},
     "output_type": "execute_result"
    }
   ],
   "source": [
    "gs.fit(X, y)"
   ]
  },
  {
   "cell_type": "markdown",
   "metadata": {},
   "source": [
    "Get results from grid search"
   ]
  },
  {
   "cell_type": "code",
   "execution_count": 8,
   "metadata": {},
   "outputs": [
    {
     "name": "stdout",
     "output_type": "stream",
     "text": [
      "Best hyper-parameters are: {'n_neighbors': 19, 'p': 1, 'weights': 'uniform'}\n",
      "Recall is: 73.9%\n"
     ]
    }
   ],
   "source": [
    "print(f'Best hyper-parameters are: {gs.best_params_}\\nRecall is: {round(gs.best_score_ * 100, 2)}%')"
   ]
  },
  {
   "cell_type": "markdown",
   "metadata": {},
   "source": [
    "## Ideal model"
   ]
  },
  {
   "cell_type": "markdown",
   "metadata": {},
   "source": [
    "Initialising KNN with ideal hyper-parameters"
   ]
  },
  {
   "cell_type": "code",
   "execution_count": 5,
   "metadata": {},
   "outputs": [],
   "source": [
    "knn_ideal = KNeighborsClassifier(n_neighbors=19, p=1, weights='uniform')"
   ]
  },
  {
   "cell_type": "markdown",
   "metadata": {},
   "source": [
    "Training and getting predictions"
   ]
  },
  {
   "cell_type": "code",
   "execution_count": 6,
   "metadata": {},
   "outputs": [],
   "source": [
    "X_train, y_train = X, y\n",
    "X_test, y_test = X_test, y_test"
   ]
  },
  {
   "cell_type": "code",
   "execution_count": 7,
   "metadata": {},
   "outputs": [],
   "source": [
    "model = knn_ideal.fit(X_train, y_train)\n",
    "y_test_pred = model.predict(X_test)"
   ]
  },
  {
   "cell_type": "markdown",
   "metadata": {},
   "source": [
    "Getting results"
   ]
  },
  {
   "cell_type": "code",
   "execution_count": 8,
   "metadata": {},
   "outputs": [
    {
     "name": "stdout",
     "output_type": "stream",
     "text": [
      "Accuracy score is : 86.05%\n",
      "Recall score is : 73.62%\n",
      "Precision score is : 66.88%\n",
      "F1 score is : 70.09%\n"
     ]
    }
   ],
   "source": [
    "acc_result = accuracy_score(y_test, y_test_pred)\n",
    "recall_result = recall_score(y_test, y_test_pred)\n",
    "precision_result = precision_score(y_test, y_test_pred)\n",
    "f1_result = f1_score(y_test, y_test_pred)\n",
    "print(f'Accuracy score is : {round(acc_result*100, 2)}%')\n",
    "print(f'Recall score is : {round(recall_result*100, 2)}%')\n",
    "print(f'Precision score is : {round(precision_result*100, 2)}%')\n",
    "print(f'F1 score is : {round(f1_result*100, 2)}%')"
   ]
  },
  {
   "cell_type": "markdown",
   "metadata": {},
   "source": [
    "## Feature Importance"
   ]
  },
  {
   "cell_type": "markdown",
   "metadata": {},
   "source": [
    "Permutation Importance"
   ]
  },
  {
   "cell_type": "code",
   "execution_count": 9,
   "metadata": {},
   "outputs": [
    {
     "data": {
      "image/png": "[encoded data removed]",
      "text/plain": [
       "<Figure size 720x432 with 1 Axes>"
      ]
     },
     "metadata": {
      "needs_background": "light"
     },
     "output_type": "display_data"
    }
   ],
   "source": [
    "r = permutation_importance(knn_ideal, X_test, y_test, scoring = 'recall',\n",
    "                           n_repeats=1,\n",
    "                           random_state=0)\n",
    "# Get feature importances and their names\n",
    "feature_importances = r.importances_mean\n",
    "feature_names = X_test.columns\n",
    "\n",
    "# Sort feature importances in descending order\n",
    "sorted_idx = np.argsort(feature_importances)[::-1]\n",
    "sorted_feature_importances = feature_importances[sorted_idx]\n",
    "sorted_feature_names = np.array(feature_names)[sorted_idx]\n",
    "\n",
    "# Plot the feature importances\n",
    "plt.figure(figsize=(10, 6))\n",
    "plt.barh(range(len(sorted_feature_importances)), sorted_feature_importances[::-1], align=\"center\")\n",
    "plt.yticks(range(len(sorted_feature_importances)), sorted_feature_names[::-1])\n",
    "plt.xlabel(\"Permutation Importance\")\n",
    "plt.title(\"Feature Importances (Permutation Importance)\")\n",
    "plt.show()"
   ]
  }
 ],
 "metadata": {
  "kernelspec": {
   "display_name": "base",
   "language": "python",
   "name": "python3"
  },
  "language_info": {
   "codemirror_mode": {
    "name": "ipython",
    "version": 3
   },
   "file_extension": ".py",
   "mimetype": "text/x-python",
   "name": "python",
   "nbconvert_exporter": "python",
   "pygments_lexer": "ipython3",
   "version": "3.8.8"
  }
 },
 "nbformat": 4,
 "nbformat_minor": 2
}
